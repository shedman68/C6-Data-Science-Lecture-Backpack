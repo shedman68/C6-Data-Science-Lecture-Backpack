{
 "cells": [
  {
   "cell_type": "code",
   "execution_count": 16,
   "metadata": {},
   "outputs": [
    {
     "name": "stderr",
     "output_type": "stream",
     "text": [
      "Special tokens have been added in the vocabulary, make sure the associated word embeddings are fine-tuned or trained.\n"
     ]
    }
   ],
   "source": [
    "from transformers import T5ForConditionalGeneration, T5Tokenizer\n",
    "\n",
    "# Load pre-trained model and tokenizer\n",
    "model_name = \"t5-small\"\n",
    "tokenizer = T5Tokenizer.from_pretrained(model_name)\n",
    "model = T5ForConditionalGeneration.from_pretrained(model_name)"
   ]
  },
  {
   "cell_type": "code",
   "execution_count": 21,
   "metadata": {},
   "outputs": [
    {
     "name": "stdout",
     "output_type": "stream",
     "text": [
      "Source Text: Translate this into French\n",
      "Translated Text: Translat traduc traduc traduc traduc traduc traduc traduc traduc traduc traduc traduc traduc traduc traduc traduc traduc traduc traduc traduc traduc traduc traduc traduc traduc traduc traduc traduc traduc traduc traduc\n"
     ]
    }
   ],
   "source": [
    "source_text = \"Translate this into French\"\n",
    "\n",
    "# Encode input text into input format expected by T5 model\n",
    "input_ids = tokenizer.encode(source_text, return_tensors=\"pt\")\n",
    "\n",
    "# Perform translation\n",
    "translated_ids = model.generate(input_ids, max_length=32, num_beams=4, early_stopping=True)\n",
    "\n",
    "# Decode translated text\n",
    "translated_text = tokenizer.decode(translated_ids[0], skip_special_tokens=True)\n",
    "\n",
    "print(\"Source Text:\", source_text)\n",
    "print(\"Translated Text:\", translated_text)"
   ]
  }
 ],
 "metadata": {
  "kernelspec": {
   "display_name": ".vevn",
   "language": "python",
   "name": "python3"
  },
  "language_info": {
   "codemirror_mode": {
    "name": "ipython",
    "version": 3
   },
   "file_extension": ".py",
   "mimetype": "text/x-python",
   "name": "python",
   "nbconvert_exporter": "python",
   "pygments_lexer": "ipython3",
   "version": "3.11.0"
  }
 },
 "nbformat": 4,
 "nbformat_minor": 2
}
